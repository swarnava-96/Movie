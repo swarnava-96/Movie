{
 "cells": [
  {
   "cell_type": "markdown",
   "metadata": {
    "id": "U4MHCuW4GXo4"
   },
   "source": [
    "# **Data Pre-processing part 4**\n",
    "Extracting features of 2019 movies from Wikipedia"
   ]
  },
  {
   "cell_type": "code",
   "execution_count": 1,
   "metadata": {
    "id": "Cy5M9D97Gb-g"
   },
   "outputs": [],
   "source": [
    "# Importing the necessary libries\n",
    "\n",
    "import numpy as np\n",
    "import pandas as pd"
   ]
  },
  {
   "cell_type": "code",
   "execution_count": 2,
   "metadata": {
    "id": "7q_hHALJG6JP"
   },
   "outputs": [],
   "source": [
    "# Getting the 2019 data\n",
    "\n",
    "link = \"https://en.wikipedia.org/wiki/List_of_American_films_of_2019\"\n",
    "df1 = pd.read_html(link, header=0)[2]\n",
    "df2 = pd.read_html(link, header=0)[3]\n",
    "df3 = pd.read_html(link, header=0)[4]\n",
    "df4 = pd.read_html(link, header=0)[5]"
   ]
  },
  {
   "cell_type": "code",
   "execution_count": 3,
   "metadata": {
    "id": "bgmq0y8nHBL2"
   },
   "outputs": [],
   "source": [
    "# Combining all the tables\n",
    "\n",
    "df = df1.append(df2.append(df3.append(df4,ignore_index=True),ignore_index=True),ignore_index=True)"
   ]
  },
  {
   "cell_type": "code",
   "execution_count": 4,
   "metadata": {
    "colab": {
     "base_uri": "https://localhost:8080/",
     "height": 419
    },
    "id": "2s2ZP50HHGbj",
    "outputId": "97113e33-b794-4617-b5ff-7c53bdaecfb3"
   },
   "outputs": [
    {
     "data": {
      "text/html": [
       "<div>\n",
       "<style scoped>\n",
       "    .dataframe tbody tr th:only-of-type {\n",
       "        vertical-align: middle;\n",
       "    }\n",
       "\n",
       "    .dataframe tbody tr th {\n",
       "        vertical-align: top;\n",
       "    }\n",
       "\n",
       "    .dataframe thead th {\n",
       "        text-align: right;\n",
       "    }\n",
       "</style>\n",
       "<table border=\"1\" class=\"dataframe\">\n",
       "  <thead>\n",
       "    <tr style=\"text-align: right;\">\n",
       "      <th></th>\n",
       "      <th>Opening</th>\n",
       "      <th>Opening.1</th>\n",
       "      <th>Title</th>\n",
       "      <th>Production company</th>\n",
       "      <th>Cast and crew</th>\n",
       "      <th>Ref.</th>\n",
       "    </tr>\n",
       "  </thead>\n",
       "  <tbody>\n",
       "    <tr>\n",
       "      <th>0</th>\n",
       "      <td>JANUARY</td>\n",
       "      <td>4</td>\n",
       "      <td>Escape Room</td>\n",
       "      <td>Columbia Pictures</td>\n",
       "      <td>Adam Robitel (director); Bragi F. Schut, Maria...</td>\n",
       "      <td>[2]</td>\n",
       "    </tr>\n",
       "    <tr>\n",
       "      <th>1</th>\n",
       "      <td>JANUARY</td>\n",
       "      <td>4</td>\n",
       "      <td>Rust Creek</td>\n",
       "      <td>IFC Films</td>\n",
       "      <td>Jen McGowan (director); Julie Lipson (screenpl...</td>\n",
       "      <td>[3]</td>\n",
       "    </tr>\n",
       "    <tr>\n",
       "      <th>2</th>\n",
       "      <td>JANUARY</td>\n",
       "      <td>4</td>\n",
       "      <td>American Hangman</td>\n",
       "      <td>Hangman Justice Productions</td>\n",
       "      <td>Wilson Coneybeare (director/screenplay); Donal...</td>\n",
       "      <td>[4]</td>\n",
       "    </tr>\n",
       "    <tr>\n",
       "      <th>3</th>\n",
       "      <td>JANUARY</td>\n",
       "      <td>11</td>\n",
       "      <td>A Dog's Way Home</td>\n",
       "      <td>Columbia Pictures</td>\n",
       "      <td>Charles Martin Smith (director); W. Bruce Came...</td>\n",
       "      <td>[5]</td>\n",
       "    </tr>\n",
       "    <tr>\n",
       "      <th>4</th>\n",
       "      <td>JANUARY</td>\n",
       "      <td>11</td>\n",
       "      <td>The Upside</td>\n",
       "      <td>STX Entertainment</td>\n",
       "      <td>Neil Burger (director); Jon Hartmere (screenpl...</td>\n",
       "      <td>[6]</td>\n",
       "    </tr>\n",
       "    <tr>\n",
       "      <th>...</th>\n",
       "      <td>...</td>\n",
       "      <td>...</td>\n",
       "      <td>...</td>\n",
       "      <td>...</td>\n",
       "      <td>...</td>\n",
       "      <td>...</td>\n",
       "    </tr>\n",
       "    <tr>\n",
       "      <th>237</th>\n",
       "      <td>DECEMBER</td>\n",
       "      <td>25</td>\n",
       "      <td>Spies in Disguise</td>\n",
       "      <td>20th Century Fox / Blue Sky Studios / Chernin ...</td>\n",
       "      <td>Nick Bruno, Troy Quane (directors); Brad Copel...</td>\n",
       "      <td>[132]</td>\n",
       "    </tr>\n",
       "    <tr>\n",
       "      <th>238</th>\n",
       "      <td>DECEMBER</td>\n",
       "      <td>25</td>\n",
       "      <td>Little Women</td>\n",
       "      <td>Columbia Pictures / Regency Enterprises</td>\n",
       "      <td>Greta Gerwig (director/screenplay); Saoirse Ro...</td>\n",
       "      <td>[221]</td>\n",
       "    </tr>\n",
       "    <tr>\n",
       "      <th>239</th>\n",
       "      <td>DECEMBER</td>\n",
       "      <td>25</td>\n",
       "      <td>1917</td>\n",
       "      <td>Universal Pictures / DreamWorks Pictures / Ent...</td>\n",
       "      <td>Sam Mendes (director/screenplay); Krysty Wilso...</td>\n",
       "      <td>[222]</td>\n",
       "    </tr>\n",
       "    <tr>\n",
       "      <th>240</th>\n",
       "      <td>DECEMBER</td>\n",
       "      <td>25</td>\n",
       "      <td>Just Mercy</td>\n",
       "      <td>Warner Bros. Pictures / Participant Media</td>\n",
       "      <td>Destin Daniel Cretton (director/screenplay), A...</td>\n",
       "      <td>[223]</td>\n",
       "    </tr>\n",
       "    <tr>\n",
       "      <th>241</th>\n",
       "      <td>DECEMBER</td>\n",
       "      <td>27</td>\n",
       "      <td>Clemency</td>\n",
       "      <td>Neon</td>\n",
       "      <td>Chinonye Chukwu (director/screenplay); Alfre W...</td>\n",
       "      <td>[224]</td>\n",
       "    </tr>\n",
       "  </tbody>\n",
       "</table>\n",
       "<p>242 rows × 6 columns</p>\n",
       "</div>"
      ],
      "text/plain": [
       "      Opening  ...   Ref.\n",
       "0     JANUARY  ...    [2]\n",
       "1     JANUARY  ...    [3]\n",
       "2     JANUARY  ...    [4]\n",
       "3     JANUARY  ...    [5]\n",
       "4     JANUARY  ...    [6]\n",
       "..        ...  ...    ...\n",
       "237  DECEMBER  ...  [132]\n",
       "238  DECEMBER  ...  [221]\n",
       "239  DECEMBER  ...  [222]\n",
       "240  DECEMBER  ...  [223]\n",
       "241  DECEMBER  ...  [224]\n",
       "\n",
       "[242 rows x 6 columns]"
      ]
     },
     "execution_count": 4,
     "metadata": {},
     "output_type": "execute_result"
    }
   ],
   "source": [
    "# Lets check our combined data\n",
    "\n",
    "df"
   ]
  },
  {
   "cell_type": "code",
   "execution_count": 5,
   "metadata": {
    "colab": {
     "base_uri": "https://localhost:8080/"
    },
    "id": "7YVfCVG9HXmy",
    "outputId": "3eafc0ef-452b-48e3-9953-958d6fca44a1"
   },
   "outputs": [
    {
     "name": "stdout",
     "output_type": "stream",
     "text": [
      "Requirement already satisfied: tmdbv3api in /usr/local/lib/python3.7/dist-packages (1.7.6)\n",
      "Requirement already satisfied: requests in /usr/local/lib/python3.7/dist-packages (from tmdbv3api) (2.23.0)\n",
      "Requirement already satisfied: urllib3!=1.25.0,!=1.25.1,<1.26,>=1.21.1 in /usr/local/lib/python3.7/dist-packages (from requests->tmdbv3api) (1.24.3)\n",
      "Requirement already satisfied: idna<3,>=2.5 in /usr/local/lib/python3.7/dist-packages (from requests->tmdbv3api) (2.10)\n",
      "Requirement already satisfied: chardet<4,>=3.0.2 in /usr/local/lib/python3.7/dist-packages (from requests->tmdbv3api) (3.0.4)\n",
      "Requirement already satisfied: certifi>=2017.4.17 in /usr/local/lib/python3.7/dist-packages (from requests->tmdbv3api) (2021.5.30)\n"
     ]
    }
   ],
   "source": [
    "# Lets install tmdbv3api\n",
    "\n",
    "!pip install tmdbv3api"
   ]
  },
  {
   "cell_type": "code",
   "execution_count": 6,
   "metadata": {
    "id": "8g-8_vniHJ17"
   },
   "outputs": [],
   "source": [
    "# Lets set the api key\n",
    "from tmdbv3api import TMDb\n",
    "import json\n",
    "import requests\n",
    "tmdb = TMDb()\n",
    "tmdb.api_key = 'c7ecb323bae4d5903c00da265bb6318a'"
   ]
  },
  {
   "cell_type": "code",
   "execution_count": 7,
   "metadata": {
    "id": "MYFv5g4cHhPT"
   },
   "outputs": [],
   "source": [
    "# Lets extract the genres data\n",
    "\n",
    "from tmdbv3api import Movie\n",
    "tmdb_movie = Movie()\n",
    "def get_genre(x):\n",
    "    genres = []\n",
    "    result = tmdb_movie.search(x)\n",
    "    movie_id = result[0].id\n",
    "    response = requests.get('https://api.themoviedb.org/3/movie/{}?api_key={}'.format(movie_id,tmdb.api_key))\n",
    "    data_json = response.json()\n",
    "    if data_json['genres']:\n",
    "        genre_str = \" \" \n",
    "        for i in range(0,len(data_json['genres'])):\n",
    "            genres.append(data_json['genres'][i]['name'])\n",
    "        return genre_str.join(genres)\n",
    "    else:\n",
    "        np.NaN"
   ]
  },
  {
   "cell_type": "code",
   "execution_count": 8,
   "metadata": {
    "id": "Q5z7XS8xHn3-"
   },
   "outputs": [],
   "source": [
    "df['genres'] = df['Title'].map(lambda x: get_genre(str(x)))"
   ]
  },
  {
   "cell_type": "code",
   "execution_count": 9,
   "metadata": {
    "id": "pLp5wkFoH22W"
   },
   "outputs": [],
   "source": [
    "# Lets take the features we need\n",
    "\n",
    "df_2019 = df[['Title','Cast and crew','genres']]"
   ]
  },
  {
   "cell_type": "code",
   "execution_count": 10,
   "metadata": {
    "colab": {
     "base_uri": "https://localhost:8080/",
     "height": 419
    },
    "id": "-yLI9Kh6NF4X",
    "outputId": "9047efc8-4912-4a8e-a016-2641e4973630"
   },
   "outputs": [
    {
     "data": {
      "text/html": [
       "<div>\n",
       "<style scoped>\n",
       "    .dataframe tbody tr th:only-of-type {\n",
       "        vertical-align: middle;\n",
       "    }\n",
       "\n",
       "    .dataframe tbody tr th {\n",
       "        vertical-align: top;\n",
       "    }\n",
       "\n",
       "    .dataframe thead th {\n",
       "        text-align: right;\n",
       "    }\n",
       "</style>\n",
       "<table border=\"1\" class=\"dataframe\">\n",
       "  <thead>\n",
       "    <tr style=\"text-align: right;\">\n",
       "      <th></th>\n",
       "      <th>Title</th>\n",
       "      <th>Cast and crew</th>\n",
       "      <th>genres</th>\n",
       "    </tr>\n",
       "  </thead>\n",
       "  <tbody>\n",
       "    <tr>\n",
       "      <th>0</th>\n",
       "      <td>Escape Room</td>\n",
       "      <td>Adam Robitel (director); Bragi F. Schut, Maria...</td>\n",
       "      <td>Thriller Action Mystery Horror</td>\n",
       "    </tr>\n",
       "    <tr>\n",
       "      <th>1</th>\n",
       "      <td>Rust Creek</td>\n",
       "      <td>Jen McGowan (director); Julie Lipson (screenpl...</td>\n",
       "      <td>Thriller Drama</td>\n",
       "    </tr>\n",
       "    <tr>\n",
       "      <th>2</th>\n",
       "      <td>American Hangman</td>\n",
       "      <td>Wilson Coneybeare (director/screenplay); Donal...</td>\n",
       "      <td>Thriller</td>\n",
       "    </tr>\n",
       "    <tr>\n",
       "      <th>3</th>\n",
       "      <td>A Dog's Way Home</td>\n",
       "      <td>Charles Martin Smith (director); W. Bruce Came...</td>\n",
       "      <td>Drama Adventure Family</td>\n",
       "    </tr>\n",
       "    <tr>\n",
       "      <th>4</th>\n",
       "      <td>The Upside</td>\n",
       "      <td>Neil Burger (director); Jon Hartmere (screenpl...</td>\n",
       "      <td>Comedy Drama</td>\n",
       "    </tr>\n",
       "    <tr>\n",
       "      <th>...</th>\n",
       "      <td>...</td>\n",
       "      <td>...</td>\n",
       "      <td>...</td>\n",
       "    </tr>\n",
       "    <tr>\n",
       "      <th>237</th>\n",
       "      <td>Spies in Disguise</td>\n",
       "      <td>Nick Bruno, Troy Quane (directors); Brad Copel...</td>\n",
       "      <td>Animation Action Adventure Comedy Family</td>\n",
       "    </tr>\n",
       "    <tr>\n",
       "      <th>238</th>\n",
       "      <td>Little Women</td>\n",
       "      <td>Greta Gerwig (director/screenplay); Saoirse Ro...</td>\n",
       "      <td>Drama Romance</td>\n",
       "    </tr>\n",
       "    <tr>\n",
       "      <th>239</th>\n",
       "      <td>1917</td>\n",
       "      <td>Sam Mendes (director/screenplay); Krysty Wilso...</td>\n",
       "      <td>War Drama Action Thriller</td>\n",
       "    </tr>\n",
       "    <tr>\n",
       "      <th>240</th>\n",
       "      <td>Just Mercy</td>\n",
       "      <td>Destin Daniel Cretton (director/screenplay), A...</td>\n",
       "      <td>Drama Crime History</td>\n",
       "    </tr>\n",
       "    <tr>\n",
       "      <th>241</th>\n",
       "      <td>Clemency</td>\n",
       "      <td>Chinonye Chukwu (director/screenplay); Alfre W...</td>\n",
       "      <td>Drama</td>\n",
       "    </tr>\n",
       "  </tbody>\n",
       "</table>\n",
       "<p>242 rows × 3 columns</p>\n",
       "</div>"
      ],
      "text/plain": [
       "                 Title  ...                                    genres\n",
       "0          Escape Room  ...            Thriller Action Mystery Horror\n",
       "1           Rust Creek  ...                            Thriller Drama\n",
       "2     American Hangman  ...                                  Thriller\n",
       "3     A Dog's Way Home  ...                    Drama Adventure Family\n",
       "4           The Upside  ...                              Comedy Drama\n",
       "..                 ...  ...                                       ...\n",
       "237  Spies in Disguise  ...  Animation Action Adventure Comedy Family\n",
       "238       Little Women  ...                             Drama Romance\n",
       "239               1917  ...                 War Drama Action Thriller\n",
       "240         Just Mercy  ...                       Drama Crime History\n",
       "241           Clemency  ...                                     Drama\n",
       "\n",
       "[242 rows x 3 columns]"
      ]
     },
     "execution_count": 10,
     "metadata": {},
     "output_type": "execute_result"
    }
   ],
   "source": [
    "# Lets check the dataset\n",
    "\n",
    "df_2019"
   ]
  },
  {
   "cell_type": "code",
   "execution_count": 11,
   "metadata": {
    "id": "fsElKW-5NKNa"
   },
   "outputs": [],
   "source": [
    "# Lets extract the directors name\n",
    "\n",
    "def get_director(x):\n",
    "    if \" (director)\" in x:\n",
    "        return x.split(\" (director)\")[0]\n",
    "    elif \" (directors)\" in x:\n",
    "        return x.split(\" (directors)\")[0]\n",
    "    else:\n",
    "        return x.split(\" (director/screenplay)\")[0]"
   ]
  },
  {
   "cell_type": "code",
   "execution_count": 12,
   "metadata": {
    "colab": {
     "base_uri": "https://localhost:8080/"
    },
    "id": "sxTJuFCxNOrU",
    "outputId": "84ee5d65-0501-4afc-fd87-c2b2c812ae02"
   },
   "outputs": [
    {
     "name": "stderr",
     "output_type": "stream",
     "text": [
      "/usr/local/lib/python3.7/dist-packages/ipykernel_launcher.py:1: SettingWithCopyWarning: \n",
      "A value is trying to be set on a copy of a slice from a DataFrame.\n",
      "Try using .loc[row_indexer,col_indexer] = value instead\n",
      "\n",
      "See the caveats in the documentation: https://pandas.pydata.org/pandas-docs/stable/user_guide/indexing.html#returning-a-view-versus-a-copy\n",
      "  \"\"\"Entry point for launching an IPython kernel.\n"
     ]
    }
   ],
   "source": [
    "df_2019['director_name'] = df_2019['Cast and crew'].map(lambda x: get_director(str(x)))"
   ]
  },
  {
   "cell_type": "code",
   "execution_count": 13,
   "metadata": {
    "id": "40_xmFwJNR2D"
   },
   "outputs": [],
   "source": [
    "# Lets extract the actor 1 name\n",
    "\n",
    "def get_actor1(x):\n",
    "    return ((x.split(\"screenplay); \")[-1]).split(\", \")[0])"
   ]
  },
  {
   "cell_type": "code",
   "execution_count": 14,
   "metadata": {
    "colab": {
     "base_uri": "https://localhost:8080/"
    },
    "id": "egqYGGLTNYKX",
    "outputId": "4d94f2b5-02e3-4f83-c0fb-4d79731d96c7"
   },
   "outputs": [
    {
     "name": "stderr",
     "output_type": "stream",
     "text": [
      "/usr/local/lib/python3.7/dist-packages/ipykernel_launcher.py:1: SettingWithCopyWarning: \n",
      "A value is trying to be set on a copy of a slice from a DataFrame.\n",
      "Try using .loc[row_indexer,col_indexer] = value instead\n",
      "\n",
      "See the caveats in the documentation: https://pandas.pydata.org/pandas-docs/stable/user_guide/indexing.html#returning-a-view-versus-a-copy\n",
      "  \"\"\"Entry point for launching an IPython kernel.\n"
     ]
    }
   ],
   "source": [
    "df_2019['actor_1_name'] = df_2019['Cast and crew'].map(lambda x: get_actor1(x))"
   ]
  },
  {
   "cell_type": "code",
   "execution_count": 15,
   "metadata": {
    "id": "RpCW4yNsNa2E"
   },
   "outputs": [],
   "source": [
    "# Lets extract the actor 2 name\n",
    "\n",
    "def get_actor2(x):\n",
    "    if len((x.split(\"screenplay); \")[-1]).split(\", \")) < 2:\n",
    "        return np.NaN\n",
    "    else:\n",
    "        return ((x.split(\"screenplay); \")[-1]).split(\", \")[1])"
   ]
  },
  {
   "cell_type": "code",
   "execution_count": 16,
   "metadata": {
    "colab": {
     "base_uri": "https://localhost:8080/"
    },
    "id": "hcdtyUdWNd5A",
    "outputId": "1d5d29b1-8b9d-4341-aaf8-65ed7b358504"
   },
   "outputs": [
    {
     "name": "stderr",
     "output_type": "stream",
     "text": [
      "/usr/local/lib/python3.7/dist-packages/ipykernel_launcher.py:1: SettingWithCopyWarning: \n",
      "A value is trying to be set on a copy of a slice from a DataFrame.\n",
      "Try using .loc[row_indexer,col_indexer] = value instead\n",
      "\n",
      "See the caveats in the documentation: https://pandas.pydata.org/pandas-docs/stable/user_guide/indexing.html#returning-a-view-versus-a-copy\n",
      "  \"\"\"Entry point for launching an IPython kernel.\n"
     ]
    }
   ],
   "source": [
    "df_2019['actor_2_name'] = df_2019['Cast and crew'].map(lambda x: get_actor2(x))"
   ]
  },
  {
   "cell_type": "code",
   "execution_count": 17,
   "metadata": {
    "id": "YE7PoBxCNhOw"
   },
   "outputs": [],
   "source": [
    "# Lets get the actor 3 name\n",
    "\n",
    "def get_actor3(x):\n",
    "    if len((x.split(\"screenplay); \")[-1]).split(\", \")) < 3:\n",
    "        return np.NaN\n",
    "    else:\n",
    "        return ((x.split(\"screenplay); \")[-1]).split(\", \")[2])"
   ]
  },
  {
   "cell_type": "code",
   "execution_count": 18,
   "metadata": {
    "id": "7Jm3CaF7Nma2"
   },
   "outputs": [],
   "source": [
    "df_2019['actor_3_name'] = df_2019['Cast and crew'].map(lambda x: get_actor3(x))"
   ]
  },
  {
   "cell_type": "code",
   "execution_count": 19,
   "metadata": {
    "id": "qYh98FxANpeg"
   },
   "outputs": [],
   "source": [
    "# Lets rename the feature\n",
    "\n",
    "df_2019 = df_2019.rename(columns={'Title':'movie_title'})"
   ]
  },
  {
   "cell_type": "code",
   "execution_count": 20,
   "metadata": {
    "id": "IgE_anEnNswZ"
   },
   "outputs": [],
   "source": [
    "# Lets create the dataframe with the needed features\n",
    "\n",
    "new_df19 = df_2019.loc[:,['director_name','actor_1_name','actor_2_name','actor_3_name','genres','movie_title']]"
   ]
  },
  {
   "cell_type": "code",
   "execution_count": 21,
   "metadata": {
    "colab": {
     "base_uri": "https://localhost:8080/"
    },
    "id": "aFYMyWyxNv4l",
    "outputId": "f375574a-4f9c-4858-b4b5-3959bdb0fea4"
   },
   "outputs": [
    {
     "data": {
      "text/plain": [
       "director_name     0\n",
       "actor_1_name      0\n",
       "actor_2_name      1\n",
       "actor_3_name     15\n",
       "genres            0\n",
       "movie_title       0\n",
       "dtype: int64"
      ]
     },
     "execution_count": 21,
     "metadata": {},
     "output_type": "execute_result"
    }
   ],
   "source": [
    "#  Lets check for null values\n",
    "\n",
    "new_df19.isnull().sum()"
   ]
  },
  {
   "cell_type": "code",
   "execution_count": 22,
   "metadata": {
    "id": "adwJ1OzCNz3M"
   },
   "outputs": [],
   "source": [
    "# Lets drop the null values\n",
    "\n",
    "new_df19['actor_2_name'] = new_df19['actor_2_name'].replace(np.nan, 'unknown')\n",
    "new_df19['actor_3_name'] = new_df19['actor_3_name'].replace(np.nan, 'unknown')"
   ]
  },
  {
   "cell_type": "code",
   "execution_count": 23,
   "metadata": {
    "id": "qllnl6skN29p"
   },
   "outputs": [],
   "source": [
    "# Lets convert the movie title into lower case \n",
    "\n",
    "new_df19['movie_title'] = new_df19['movie_title'].str.lower()"
   ]
  },
  {
   "cell_type": "code",
   "execution_count": 24,
   "metadata": {
    "id": "ClgIZhHjN5wv"
   },
   "outputs": [],
   "source": [
    "# Lets create a feature \"combine\"\n",
    "\n",
    "new_df19['comb'] = new_df19['actor_1_name'] + ' ' + new_df19['actor_2_name'] + ' '+ new_df19['actor_3_name'] + ' '+ new_df19['director_name'] +' ' + new_df19['genres']"
   ]
  },
  {
   "cell_type": "code",
   "execution_count": 25,
   "metadata": {
    "colab": {
     "base_uri": "https://localhost:8080/",
     "height": 589
    },
    "id": "tVeUNhP0N8l3",
    "outputId": "a50d72df-64af-4e22-e856-d4bdf30ae1cc"
   },
   "outputs": [
    {
     "data": {
      "text/html": [
       "<div>\n",
       "<style scoped>\n",
       "    .dataframe tbody tr th:only-of-type {\n",
       "        vertical-align: middle;\n",
       "    }\n",
       "\n",
       "    .dataframe tbody tr th {\n",
       "        vertical-align: top;\n",
       "    }\n",
       "\n",
       "    .dataframe thead th {\n",
       "        text-align: right;\n",
       "    }\n",
       "</style>\n",
       "<table border=\"1\" class=\"dataframe\">\n",
       "  <thead>\n",
       "    <tr style=\"text-align: right;\">\n",
       "      <th></th>\n",
       "      <th>director_name</th>\n",
       "      <th>actor_1_name</th>\n",
       "      <th>actor_2_name</th>\n",
       "      <th>actor_3_name</th>\n",
       "      <th>genres</th>\n",
       "      <th>movie_title</th>\n",
       "      <th>comb</th>\n",
       "    </tr>\n",
       "  </thead>\n",
       "  <tbody>\n",
       "    <tr>\n",
       "      <th>0</th>\n",
       "      <td>Adam Robitel</td>\n",
       "      <td>Taylor Russell</td>\n",
       "      <td>Logan Miller</td>\n",
       "      <td>Deborah Ann Woll</td>\n",
       "      <td>Thriller Action Mystery Horror</td>\n",
       "      <td>escape room</td>\n",
       "      <td>Taylor Russell Logan Miller Deborah Ann Woll A...</td>\n",
       "    </tr>\n",
       "    <tr>\n",
       "      <th>1</th>\n",
       "      <td>Jen McGowan</td>\n",
       "      <td>Hermione Corfield</td>\n",
       "      <td>Jay Paulson</td>\n",
       "      <td>Sean O'Bryan</td>\n",
       "      <td>Thriller Drama</td>\n",
       "      <td>rust creek</td>\n",
       "      <td>Hermione Corfield Jay Paulson Sean O'Bryan Jen...</td>\n",
       "    </tr>\n",
       "    <tr>\n",
       "      <th>2</th>\n",
       "      <td>Wilson Coneybeare</td>\n",
       "      <td>Donald Sutherland</td>\n",
       "      <td>Vincent Kartheiser</td>\n",
       "      <td>Oliver Dennis</td>\n",
       "      <td>Thriller</td>\n",
       "      <td>american hangman</td>\n",
       "      <td>Donald Sutherland Vincent Kartheiser Oliver De...</td>\n",
       "    </tr>\n",
       "    <tr>\n",
       "      <th>3</th>\n",
       "      <td>Charles Martin Smith</td>\n",
       "      <td>Bryce Dallas Howard</td>\n",
       "      <td>Edward James Olmos</td>\n",
       "      <td>Alexandra Shipp</td>\n",
       "      <td>Drama Adventure Family</td>\n",
       "      <td>a dog's way home</td>\n",
       "      <td>Bryce Dallas Howard Edward James Olmos Alexand...</td>\n",
       "    </tr>\n",
       "    <tr>\n",
       "      <th>4</th>\n",
       "      <td>Neil Burger</td>\n",
       "      <td>Bryan Cranston</td>\n",
       "      <td>Kevin Hart</td>\n",
       "      <td>Nicole Kidman</td>\n",
       "      <td>Comedy Drama</td>\n",
       "      <td>the upside</td>\n",
       "      <td>Bryan Cranston Kevin Hart Nicole Kidman Neil B...</td>\n",
       "    </tr>\n",
       "    <tr>\n",
       "      <th>...</th>\n",
       "      <td>...</td>\n",
       "      <td>...</td>\n",
       "      <td>...</td>\n",
       "      <td>...</td>\n",
       "      <td>...</td>\n",
       "      <td>...</td>\n",
       "      <td>...</td>\n",
       "    </tr>\n",
       "    <tr>\n",
       "      <th>237</th>\n",
       "      <td>Nick Bruno, Troy Quane</td>\n",
       "      <td>Will Smith</td>\n",
       "      <td>Tom Holland</td>\n",
       "      <td>Rashida Jones</td>\n",
       "      <td>Animation Action Adventure Comedy Family</td>\n",
       "      <td>spies in disguise</td>\n",
       "      <td>Will Smith Tom Holland Rashida Jones Nick Brun...</td>\n",
       "    </tr>\n",
       "    <tr>\n",
       "      <th>238</th>\n",
       "      <td>Greta Gerwig</td>\n",
       "      <td>Saoirse Ronan</td>\n",
       "      <td>Emma Watson</td>\n",
       "      <td>Florence Pugh</td>\n",
       "      <td>Drama Romance</td>\n",
       "      <td>little women</td>\n",
       "      <td>Saoirse Ronan Emma Watson Florence Pugh Greta ...</td>\n",
       "    </tr>\n",
       "    <tr>\n",
       "      <th>239</th>\n",
       "      <td>Sam Mendes</td>\n",
       "      <td>George MacKay</td>\n",
       "      <td>Dean-Charles Chapman</td>\n",
       "      <td>Mark Strong</td>\n",
       "      <td>War Drama Action Thriller</td>\n",
       "      <td>1917</td>\n",
       "      <td>George MacKay Dean-Charles Chapman Mark Strong...</td>\n",
       "    </tr>\n",
       "    <tr>\n",
       "      <th>240</th>\n",
       "      <td>Destin Daniel Cretton</td>\n",
       "      <td>Michael B. Jordan</td>\n",
       "      <td>Jamie Foxx</td>\n",
       "      <td>Brie Larson</td>\n",
       "      <td>Drama Crime History</td>\n",
       "      <td>just mercy</td>\n",
       "      <td>Michael B. Jordan Jamie Foxx Brie Larson Desti...</td>\n",
       "    </tr>\n",
       "    <tr>\n",
       "      <th>241</th>\n",
       "      <td>Chinonye Chukwu</td>\n",
       "      <td>Alfre Woodard</td>\n",
       "      <td>Wendell Pierce</td>\n",
       "      <td>Aldis Hodge</td>\n",
       "      <td>Drama</td>\n",
       "      <td>clemency</td>\n",
       "      <td>Alfre Woodard Wendell Pierce Aldis Hodge Chino...</td>\n",
       "    </tr>\n",
       "  </tbody>\n",
       "</table>\n",
       "<p>242 rows × 7 columns</p>\n",
       "</div>"
      ],
      "text/plain": [
       "              director_name  ...                                               comb\n",
       "0              Adam Robitel  ...  Taylor Russell Logan Miller Deborah Ann Woll A...\n",
       "1               Jen McGowan  ...  Hermione Corfield Jay Paulson Sean O'Bryan Jen...\n",
       "2         Wilson Coneybeare  ...  Donald Sutherland Vincent Kartheiser Oliver De...\n",
       "3      Charles Martin Smith  ...  Bryce Dallas Howard Edward James Olmos Alexand...\n",
       "4               Neil Burger  ...  Bryan Cranston Kevin Hart Nicole Kidman Neil B...\n",
       "..                      ...  ...                                                ...\n",
       "237  Nick Bruno, Troy Quane  ...  Will Smith Tom Holland Rashida Jones Nick Brun...\n",
       "238            Greta Gerwig  ...  Saoirse Ronan Emma Watson Florence Pugh Greta ...\n",
       "239              Sam Mendes  ...  George MacKay Dean-Charles Chapman Mark Strong...\n",
       "240   Destin Daniel Cretton  ...  Michael B. Jordan Jamie Foxx Brie Larson Desti...\n",
       "241         Chinonye Chukwu  ...  Alfre Woodard Wendell Pierce Aldis Hodge Chino...\n",
       "\n",
       "[242 rows x 7 columns]"
      ]
     },
     "execution_count": 25,
     "metadata": {},
     "output_type": "execute_result"
    }
   ],
   "source": [
    "new_df19"
   ]
  },
  {
   "cell_type": "code",
   "execution_count": 31,
   "metadata": {
    "colab": {
     "base_uri": "https://localhost:8080/",
     "height": 589
    },
    "id": "FpNIkq2POiPi",
    "outputId": "89f6f580-6b68-477b-d52c-6ed4fe900711"
   },
   "outputs": [
    {
     "data": {
      "text/html": [
       "<div>\n",
       "<style scoped>\n",
       "    .dataframe tbody tr th:only-of-type {\n",
       "        vertical-align: middle;\n",
       "    }\n",
       "\n",
       "    .dataframe tbody tr th {\n",
       "        vertical-align: top;\n",
       "    }\n",
       "\n",
       "    .dataframe thead th {\n",
       "        text-align: right;\n",
       "    }\n",
       "</style>\n",
       "<table border=\"1\" class=\"dataframe\">\n",
       "  <thead>\n",
       "    <tr style=\"text-align: right;\">\n",
       "      <th></th>\n",
       "      <th>director_name</th>\n",
       "      <th>actor_1_name</th>\n",
       "      <th>actor_2_name</th>\n",
       "      <th>actor_3_name</th>\n",
       "      <th>genres</th>\n",
       "      <th>movie_title</th>\n",
       "      <th>comb</th>\n",
       "    </tr>\n",
       "  </thead>\n",
       "  <tbody>\n",
       "    <tr>\n",
       "      <th>0</th>\n",
       "      <td>Adam Robitel</td>\n",
       "      <td>Lin Shaye</td>\n",
       "      <td>Angus Sampson</td>\n",
       "      <td>Leigh Whannell</td>\n",
       "      <td>Horror Mystery Thriller</td>\n",
       "      <td>insidious: the last key</td>\n",
       "      <td>Lin Shaye Angus Sampson Leigh Whannell Adam Ro...</td>\n",
       "    </tr>\n",
       "    <tr>\n",
       "      <th>1</th>\n",
       "      <td>Lauren Wolkstein</td>\n",
       "      <td>Alex Pettyfer</td>\n",
       "      <td>James Freedson-Jackson</td>\n",
       "      <td>Emily Althaus</td>\n",
       "      <td>Thriller Drama</td>\n",
       "      <td>the strange ones</td>\n",
       "      <td>Alex Pettyfer James Freedson-Jackson Emily Alt...</td>\n",
       "    </tr>\n",
       "    <tr>\n",
       "      <th>2</th>\n",
       "      <td>Simon West</td>\n",
       "      <td>Dominic Cooper</td>\n",
       "      <td>Austin Stowell</td>\n",
       "      <td>Gemma Chan</td>\n",
       "      <td>Action Thriller</td>\n",
       "      <td>stratton</td>\n",
       "      <td>Dominic Cooper Austin Stowell Gemma Chan Simon...</td>\n",
       "    </tr>\n",
       "    <tr>\n",
       "      <th>3</th>\n",
       "      <td>Warwick Thornton</td>\n",
       "      <td>Bryan Brown</td>\n",
       "      <td>Sam Neill</td>\n",
       "      <td>unknown</td>\n",
       "      <td>Drama History Western</td>\n",
       "      <td>sweet country</td>\n",
       "      <td>Bryan Brown Sam Neill unknown Warwick Thornton...</td>\n",
       "    </tr>\n",
       "    <tr>\n",
       "      <th>4</th>\n",
       "      <td>Jaume Collet-Serra</td>\n",
       "      <td>Liam Neeson</td>\n",
       "      <td>Vera Farmiga</td>\n",
       "      <td>Patrick Wilson</td>\n",
       "      <td>Action Thriller</td>\n",
       "      <td>the commuter</td>\n",
       "      <td>Liam Neeson Vera Farmiga Patrick Wilson Jaume ...</td>\n",
       "    </tr>\n",
       "    <tr>\n",
       "      <th>...</th>\n",
       "      <td>...</td>\n",
       "      <td>...</td>\n",
       "      <td>...</td>\n",
       "      <td>...</td>\n",
       "      <td>...</td>\n",
       "      <td>...</td>\n",
       "      <td>...</td>\n",
       "    </tr>\n",
       "    <tr>\n",
       "      <th>507</th>\n",
       "      <td>Nick Bruno, Troy Quane</td>\n",
       "      <td>Will Smith</td>\n",
       "      <td>Tom Holland</td>\n",
       "      <td>Rashida Jones</td>\n",
       "      <td>Animation Action Adventure Comedy Family</td>\n",
       "      <td>spies in disguise</td>\n",
       "      <td>Will Smith Tom Holland Rashida Jones Nick Brun...</td>\n",
       "    </tr>\n",
       "    <tr>\n",
       "      <th>508</th>\n",
       "      <td>Greta Gerwig</td>\n",
       "      <td>Saoirse Ronan</td>\n",
       "      <td>Emma Watson</td>\n",
       "      <td>Florence Pugh</td>\n",
       "      <td>Drama Romance</td>\n",
       "      <td>little women</td>\n",
       "      <td>Saoirse Ronan Emma Watson Florence Pugh Greta ...</td>\n",
       "    </tr>\n",
       "    <tr>\n",
       "      <th>509</th>\n",
       "      <td>Sam Mendes</td>\n",
       "      <td>George MacKay</td>\n",
       "      <td>Dean-Charles Chapman</td>\n",
       "      <td>Mark Strong</td>\n",
       "      <td>War Drama Action Thriller</td>\n",
       "      <td>1917</td>\n",
       "      <td>George MacKay Dean-Charles Chapman Mark Strong...</td>\n",
       "    </tr>\n",
       "    <tr>\n",
       "      <th>510</th>\n",
       "      <td>Destin Daniel Cretton</td>\n",
       "      <td>Michael B. Jordan</td>\n",
       "      <td>Jamie Foxx</td>\n",
       "      <td>Brie Larson</td>\n",
       "      <td>Drama Crime History</td>\n",
       "      <td>just mercy</td>\n",
       "      <td>Michael B. Jordan Jamie Foxx Brie Larson Desti...</td>\n",
       "    </tr>\n",
       "    <tr>\n",
       "      <th>511</th>\n",
       "      <td>Chinonye Chukwu</td>\n",
       "      <td>Alfre Woodard</td>\n",
       "      <td>Wendell Pierce</td>\n",
       "      <td>Aldis Hodge</td>\n",
       "      <td>Drama</td>\n",
       "      <td>clemency</td>\n",
       "      <td>Alfre Woodard Wendell Pierce Aldis Hodge Chino...</td>\n",
       "    </tr>\n",
       "  </tbody>\n",
       "</table>\n",
       "<p>512 rows × 7 columns</p>\n",
       "</div>"
      ],
      "text/plain": [
       "              director_name  ...                                               comb\n",
       "0              Adam Robitel  ...  Lin Shaye Angus Sampson Leigh Whannell Adam Ro...\n",
       "1          Lauren Wolkstein  ...  Alex Pettyfer James Freedson-Jackson Emily Alt...\n",
       "2                Simon West  ...  Dominic Cooper Austin Stowell Gemma Chan Simon...\n",
       "3          Warwick Thornton  ...  Bryan Brown Sam Neill unknown Warwick Thornton...\n",
       "4        Jaume Collet-Serra  ...  Liam Neeson Vera Farmiga Patrick Wilson Jaume ...\n",
       "..                      ...  ...                                                ...\n",
       "507  Nick Bruno, Troy Quane  ...  Will Smith Tom Holland Rashida Jones Nick Brun...\n",
       "508            Greta Gerwig  ...  Saoirse Ronan Emma Watson Florence Pugh Greta ...\n",
       "509              Sam Mendes  ...  George MacKay Dean-Charles Chapman Mark Strong...\n",
       "510   Destin Daniel Cretton  ...  Michael B. Jordan Jamie Foxx Brie Larson Desti...\n",
       "511         Chinonye Chukwu  ...  Alfre Woodard Wendell Pierce Aldis Hodge Chino...\n",
       "\n",
       "[512 rows x 7 columns]"
      ]
     },
     "execution_count": 31,
     "metadata": {},
     "output_type": "execute_result"
    }
   ],
   "source": [
    "# Lets merge the dataset of 2018 and 2019\n",
    "\n",
    "new_df18 = pd.read_csv(\"2018.csv\")\n",
    "my_df = new_df18.append(new_df19,ignore_index=True)\n",
    "my_df"
   ]
  },
  {
   "cell_type": "code",
   "execution_count": 32,
   "metadata": {
    "colab": {
     "base_uri": "https://localhost:8080/",
     "height": 589
    },
    "id": "4_Oykm0lSIA3",
    "outputId": "8fe3af03-cbab-4bd6-ae2c-2f01818080d3"
   },
   "outputs": [
    {
     "data": {
      "text/html": [
       "<div>\n",
       "<style scoped>\n",
       "    .dataframe tbody tr th:only-of-type {\n",
       "        vertical-align: middle;\n",
       "    }\n",
       "\n",
       "    .dataframe tbody tr th {\n",
       "        vertical-align: top;\n",
       "    }\n",
       "\n",
       "    .dataframe thead th {\n",
       "        text-align: right;\n",
       "    }\n",
       "</style>\n",
       "<table border=\"1\" class=\"dataframe\">\n",
       "  <thead>\n",
       "    <tr style=\"text-align: right;\">\n",
       "      <th></th>\n",
       "      <th>director_name</th>\n",
       "      <th>actor_1_name</th>\n",
       "      <th>actor_2_name</th>\n",
       "      <th>actor_3_name</th>\n",
       "      <th>genres</th>\n",
       "      <th>movie_title</th>\n",
       "      <th>comb</th>\n",
       "    </tr>\n",
       "  </thead>\n",
       "  <tbody>\n",
       "    <tr>\n",
       "      <th>0</th>\n",
       "      <td>Adam Robitel</td>\n",
       "      <td>Lin Shaye</td>\n",
       "      <td>Angus Sampson</td>\n",
       "      <td>Leigh Whannell</td>\n",
       "      <td>Horror Mystery Thriller</td>\n",
       "      <td>insidious: the last key</td>\n",
       "      <td>Lin Shaye Angus Sampson Leigh Whannell Adam Ro...</td>\n",
       "    </tr>\n",
       "    <tr>\n",
       "      <th>1</th>\n",
       "      <td>Lauren Wolkstein</td>\n",
       "      <td>Alex Pettyfer</td>\n",
       "      <td>James Freedson-Jackson</td>\n",
       "      <td>Emily Althaus</td>\n",
       "      <td>Thriller Drama</td>\n",
       "      <td>the strange ones</td>\n",
       "      <td>Alex Pettyfer James Freedson-Jackson Emily Alt...</td>\n",
       "    </tr>\n",
       "    <tr>\n",
       "      <th>2</th>\n",
       "      <td>Simon West</td>\n",
       "      <td>Dominic Cooper</td>\n",
       "      <td>Austin Stowell</td>\n",
       "      <td>Gemma Chan</td>\n",
       "      <td>Action Thriller</td>\n",
       "      <td>stratton</td>\n",
       "      <td>Dominic Cooper Austin Stowell Gemma Chan Simon...</td>\n",
       "    </tr>\n",
       "    <tr>\n",
       "      <th>3</th>\n",
       "      <td>Warwick Thornton</td>\n",
       "      <td>Bryan Brown</td>\n",
       "      <td>Sam Neill</td>\n",
       "      <td>unknown</td>\n",
       "      <td>Drama History Western</td>\n",
       "      <td>sweet country</td>\n",
       "      <td>Bryan Brown Sam Neill unknown Warwick Thornton...</td>\n",
       "    </tr>\n",
       "    <tr>\n",
       "      <th>4</th>\n",
       "      <td>Jaume Collet-Serra</td>\n",
       "      <td>Liam Neeson</td>\n",
       "      <td>Vera Farmiga</td>\n",
       "      <td>Patrick Wilson</td>\n",
       "      <td>Action Thriller</td>\n",
       "      <td>the commuter</td>\n",
       "      <td>Liam Neeson Vera Farmiga Patrick Wilson Jaume ...</td>\n",
       "    </tr>\n",
       "    <tr>\n",
       "      <th>...</th>\n",
       "      <td>...</td>\n",
       "      <td>...</td>\n",
       "      <td>...</td>\n",
       "      <td>...</td>\n",
       "      <td>...</td>\n",
       "      <td>...</td>\n",
       "      <td>...</td>\n",
       "    </tr>\n",
       "    <tr>\n",
       "      <th>265</th>\n",
       "      <td>Etan Cohen</td>\n",
       "      <td>Will Ferrell</td>\n",
       "      <td>John C. Reilly</td>\n",
       "      <td>Rebecca Hall</td>\n",
       "      <td>Mystery Adventure Comedy Crime</td>\n",
       "      <td>holmes &amp; watson</td>\n",
       "      <td>Will Ferrell John C. Reilly Rebecca Hall Etan ...</td>\n",
       "    </tr>\n",
       "    <tr>\n",
       "      <th>266</th>\n",
       "      <td>Adam McKay</td>\n",
       "      <td>Christian Bale</td>\n",
       "      <td>Amy Adams</td>\n",
       "      <td>Steve Carell</td>\n",
       "      <td>Drama History Comedy</td>\n",
       "      <td>vice</td>\n",
       "      <td>Christian Bale Amy Adams Steve Carell Adam McK...</td>\n",
       "    </tr>\n",
       "    <tr>\n",
       "      <th>267</th>\n",
       "      <td>Mimi Leder</td>\n",
       "      <td>Felicity Jones</td>\n",
       "      <td>Armie Hammer</td>\n",
       "      <td>Justin Theroux</td>\n",
       "      <td>Drama History</td>\n",
       "      <td>on the basis of sex</td>\n",
       "      <td>Felicity Jones Armie Hammer Justin Theroux Mim...</td>\n",
       "    </tr>\n",
       "    <tr>\n",
       "      <th>268</th>\n",
       "      <td>Karyn Kusama</td>\n",
       "      <td>Nicole Kidman</td>\n",
       "      <td>Sebastian Stan</td>\n",
       "      <td>Toby Kebbell</td>\n",
       "      <td>Thriller Crime Drama Action</td>\n",
       "      <td>destroyer</td>\n",
       "      <td>Nicole Kidman Sebastian Stan Toby Kebbell Kary...</td>\n",
       "    </tr>\n",
       "    <tr>\n",
       "      <th>269</th>\n",
       "      <td>David Slade</td>\n",
       "      <td>Fionn Whitehead</td>\n",
       "      <td>Will Poulter</td>\n",
       "      <td>Asim Chaudhry</td>\n",
       "      <td>Science Fiction Mystery Drama Thriller TV Movie</td>\n",
       "      <td>black mirror: bandersnatch</td>\n",
       "      <td>Fionn Whitehead Will Poulter Asim Chaudhry Dav...</td>\n",
       "    </tr>\n",
       "  </tbody>\n",
       "</table>\n",
       "<p>270 rows × 7 columns</p>\n",
       "</div>"
      ],
      "text/plain": [
       "          director_name  ...                                               comb\n",
       "0          Adam Robitel  ...  Lin Shaye Angus Sampson Leigh Whannell Adam Ro...\n",
       "1      Lauren Wolkstein  ...  Alex Pettyfer James Freedson-Jackson Emily Alt...\n",
       "2            Simon West  ...  Dominic Cooper Austin Stowell Gemma Chan Simon...\n",
       "3      Warwick Thornton  ...  Bryan Brown Sam Neill unknown Warwick Thornton...\n",
       "4    Jaume Collet-Serra  ...  Liam Neeson Vera Farmiga Patrick Wilson Jaume ...\n",
       "..                  ...  ...                                                ...\n",
       "265          Etan Cohen  ...  Will Ferrell John C. Reilly Rebecca Hall Etan ...\n",
       "266          Adam McKay  ...  Christian Bale Amy Adams Steve Carell Adam McK...\n",
       "267          Mimi Leder  ...  Felicity Jones Armie Hammer Justin Theroux Mim...\n",
       "268        Karyn Kusama  ...  Nicole Kidman Sebastian Stan Toby Kebbell Kary...\n",
       "269         David Slade  ...  Fionn Whitehead Will Poulter Asim Chaudhry Dav...\n",
       "\n",
       "[270 rows x 7 columns]"
      ]
     },
     "execution_count": 32,
     "metadata": {},
     "output_type": "execute_result"
    }
   ],
   "source": [
    "new_df18"
   ]
  },
  {
   "cell_type": "code",
   "execution_count": 33,
   "metadata": {
    "colab": {
     "base_uri": "https://localhost:8080/",
     "height": 589
    },
    "id": "q1uyviqrPDHc",
    "outputId": "f934bb3d-6795-45ab-887e-1b8393893234"
   },
   "outputs": [
    {
     "data": {
      "text/html": [
       "<div>\n",
       "<style scoped>\n",
       "    .dataframe tbody tr th:only-of-type {\n",
       "        vertical-align: middle;\n",
       "    }\n",
       "\n",
       "    .dataframe tbody tr th {\n",
       "        vertical-align: top;\n",
       "    }\n",
       "\n",
       "    .dataframe thead th {\n",
       "        text-align: right;\n",
       "    }\n",
       "</style>\n",
       "<table border=\"1\" class=\"dataframe\">\n",
       "  <thead>\n",
       "    <tr style=\"text-align: right;\">\n",
       "      <th></th>\n",
       "      <th>director_name</th>\n",
       "      <th>actor_1_name</th>\n",
       "      <th>actor_2_name</th>\n",
       "      <th>actor_3_name</th>\n",
       "      <th>genres</th>\n",
       "      <th>movie_title</th>\n",
       "      <th>comb</th>\n",
       "    </tr>\n",
       "  </thead>\n",
       "  <tbody>\n",
       "    <tr>\n",
       "      <th>0</th>\n",
       "      <td>James Cameron</td>\n",
       "      <td>CCH Pounder</td>\n",
       "      <td>Joel David Moore</td>\n",
       "      <td>Wes Studi</td>\n",
       "      <td>Action,Adventure,Fantasy,Sci-Fi</td>\n",
       "      <td>avata</td>\n",
       "      <td>CCH Pounder Joel David Moore Wes Studi James C...</td>\n",
       "    </tr>\n",
       "    <tr>\n",
       "      <th>1</th>\n",
       "      <td>Gore Verbinski</td>\n",
       "      <td>Johnny Depp</td>\n",
       "      <td>Orlando Bloom</td>\n",
       "      <td>Jack Davenport</td>\n",
       "      <td>Action,Adventure,Fantasy</td>\n",
       "      <td>pirates of the caribbean: at world's en</td>\n",
       "      <td>Johnny Depp Orlando Bloom Jack Davenport Gore ...</td>\n",
       "    </tr>\n",
       "    <tr>\n",
       "      <th>2</th>\n",
       "      <td>Sam Mendes</td>\n",
       "      <td>Christoph Waltz</td>\n",
       "      <td>Rory Kinnear</td>\n",
       "      <td>Stephanie Sigman</td>\n",
       "      <td>Action,Adventure,Thriller</td>\n",
       "      <td>spectr</td>\n",
       "      <td>Christoph Waltz Rory Kinnear Stephanie Sigman ...</td>\n",
       "    </tr>\n",
       "    <tr>\n",
       "      <th>3</th>\n",
       "      <td>Christopher Nolan</td>\n",
       "      <td>Tom Hardy</td>\n",
       "      <td>Christian Bale</td>\n",
       "      <td>Joseph Gordon-Levitt</td>\n",
       "      <td>Action,Thriller</td>\n",
       "      <td>the dark knight rise</td>\n",
       "      <td>Tom Hardy Christian Bale Joseph Gordon-Levitt ...</td>\n",
       "    </tr>\n",
       "    <tr>\n",
       "      <th>4</th>\n",
       "      <td>Doug Walker</td>\n",
       "      <td>Doug Walker</td>\n",
       "      <td>Rob Walker</td>\n",
       "      <td>unknown</td>\n",
       "      <td>Documentary</td>\n",
       "      <td>star wars: episode vii - the force awakens    ...</td>\n",
       "      <td>Doug Walker Rob Walker unknown Doug Walker Doc...</td>\n",
       "    </tr>\n",
       "    <tr>\n",
       "      <th>...</th>\n",
       "      <td>...</td>\n",
       "      <td>...</td>\n",
       "      <td>...</td>\n",
       "      <td>...</td>\n",
       "      <td>...</td>\n",
       "      <td>...</td>\n",
       "      <td>...</td>\n",
       "    </tr>\n",
       "    <tr>\n",
       "      <th>5849</th>\n",
       "      <td>Nick Bruno, Troy Quane</td>\n",
       "      <td>Will Smith</td>\n",
       "      <td>Tom Holland</td>\n",
       "      <td>Rashida Jones</td>\n",
       "      <td>Animation Action Adventure Comedy Family</td>\n",
       "      <td>spies in disguise</td>\n",
       "      <td>Will Smith Tom Holland Rashida Jones Nick Brun...</td>\n",
       "    </tr>\n",
       "    <tr>\n",
       "      <th>5850</th>\n",
       "      <td>Greta Gerwig</td>\n",
       "      <td>Saoirse Ronan</td>\n",
       "      <td>Emma Watson</td>\n",
       "      <td>Florence Pugh</td>\n",
       "      <td>Drama Romance</td>\n",
       "      <td>little women</td>\n",
       "      <td>Saoirse Ronan Emma Watson Florence Pugh Greta ...</td>\n",
       "    </tr>\n",
       "    <tr>\n",
       "      <th>5851</th>\n",
       "      <td>Sam Mendes</td>\n",
       "      <td>George MacKay</td>\n",
       "      <td>Dean-Charles Chapman</td>\n",
       "      <td>Mark Strong</td>\n",
       "      <td>War Drama Action Thriller</td>\n",
       "      <td>1917</td>\n",
       "      <td>George MacKay Dean-Charles Chapman Mark Strong...</td>\n",
       "    </tr>\n",
       "    <tr>\n",
       "      <th>5852</th>\n",
       "      <td>Destin Daniel Cretton</td>\n",
       "      <td>Michael B. Jordan</td>\n",
       "      <td>Jamie Foxx</td>\n",
       "      <td>Brie Larson</td>\n",
       "      <td>Drama Crime History</td>\n",
       "      <td>just mercy</td>\n",
       "      <td>Michael B. Jordan Jamie Foxx Brie Larson Desti...</td>\n",
       "    </tr>\n",
       "    <tr>\n",
       "      <th>5853</th>\n",
       "      <td>Chinonye Chukwu</td>\n",
       "      <td>Alfre Woodard</td>\n",
       "      <td>Wendell Pierce</td>\n",
       "      <td>Aldis Hodge</td>\n",
       "      <td>Drama</td>\n",
       "      <td>clemency</td>\n",
       "      <td>Alfre Woodard Wendell Pierce Aldis Hodge Chino...</td>\n",
       "    </tr>\n",
       "  </tbody>\n",
       "</table>\n",
       "<p>5854 rows × 7 columns</p>\n",
       "</div>"
      ],
      "text/plain": [
       "               director_name  ...                                               comb\n",
       "0              James Cameron  ...  CCH Pounder Joel David Moore Wes Studi James C...\n",
       "1             Gore Verbinski  ...  Johnny Depp Orlando Bloom Jack Davenport Gore ...\n",
       "2                 Sam Mendes  ...  Christoph Waltz Rory Kinnear Stephanie Sigman ...\n",
       "3          Christopher Nolan  ...  Tom Hardy Christian Bale Joseph Gordon-Levitt ...\n",
       "4                Doug Walker  ...  Doug Walker Rob Walker unknown Doug Walker Doc...\n",
       "...                      ...  ...                                                ...\n",
       "5849  Nick Bruno, Troy Quane  ...  Will Smith Tom Holland Rashida Jones Nick Brun...\n",
       "5850            Greta Gerwig  ...  Saoirse Ronan Emma Watson Florence Pugh Greta ...\n",
       "5851              Sam Mendes  ...  George MacKay Dean-Charles Chapman Mark Strong...\n",
       "5852   Destin Daniel Cretton  ...  Michael B. Jordan Jamie Foxx Brie Larson Desti...\n",
       "5853         Chinonye Chukwu  ...  Alfre Woodard Wendell Pierce Aldis Hodge Chino...\n",
       "\n",
       "[5854 rows x 7 columns]"
      ]
     },
     "execution_count": 33,
     "metadata": {},
     "output_type": "execute_result"
    }
   ],
   "source": [
    "# Lets merge my_df with the dataset before 2018\n",
    "\n",
    "old_df = pd.read_csv('new_data.csv')\n",
    "final_df = old_df.append(my_df,ignore_index=True)\n",
    "final_df"
   ]
  },
  {
   "cell_type": "code",
   "execution_count": 34,
   "metadata": {
    "colab": {
     "base_uri": "https://localhost:8080/"
    },
    "id": "jAwR8nFMPk-V",
    "outputId": "a24fedca-35a2-4cdd-e2b9-bdbfac0e0aa9"
   },
   "outputs": [
    {
     "data": {
      "text/plain": [
       "director_name    0\n",
       "actor_1_name     0\n",
       "actor_2_name     0\n",
       "actor_3_name     0\n",
       "genres           3\n",
       "movie_title      1\n",
       "comb             3\n",
       "dtype: int64"
      ]
     },
     "execution_count": 34,
     "metadata": {},
     "output_type": "execute_result"
    }
   ],
   "source": [
    "# Lets check for null values\n",
    "\n",
    "final_df.isna().sum()"
   ]
  },
  {
   "cell_type": "code",
   "execution_count": 35,
   "metadata": {
    "id": "GciycsdBP07w"
   },
   "outputs": [],
   "source": [
    "# Lets drop the null values\n",
    "\n",
    "final_df = final_df.dropna(how='any')"
   ]
  },
  {
   "cell_type": "code",
   "execution_count": 36,
   "metadata": {
    "colab": {
     "base_uri": "https://localhost:8080/"
    },
    "id": "EzCiVeumQPv0",
    "outputId": "bd6df8c7-e4ca-4e0d-c987-470bb8b315c8"
   },
   "outputs": [
    {
     "data": {
      "text/plain": [
       "director_name    0\n",
       "actor_1_name     0\n",
       "actor_2_name     0\n",
       "actor_3_name     0\n",
       "genres           0\n",
       "movie_title      0\n",
       "comb             0\n",
       "dtype: int64"
      ]
     },
     "execution_count": 36,
     "metadata": {},
     "output_type": "execute_result"
    }
   ],
   "source": [
    "final_df.isna().sum()"
   ]
  },
  {
   "cell_type": "code",
   "execution_count": 37,
   "metadata": {
    "id": "4HCXdAu1RA-5"
   },
   "outputs": [],
   "source": [
    "# Lets convert it into a csv for further use\n",
    "\n",
    "final_df.to_csv('final_data.csv',index=False)"
   ]
  }
 ],
 "metadata": {
  "colab": {
   "name": "Data Pre-processing part 4",
   "provenance": []
  },
  "kernelspec": {
   "display_name": "Python 3 (ipykernel)",
   "language": "python",
   "name": "python3"
  },
  "language_info": {
   "codemirror_mode": {
    "name": "ipython",
    "version": 3
   },
   "file_extension": ".py",
   "mimetype": "text/x-python",
   "name": "python",
   "nbconvert_exporter": "python",
   "pygments_lexer": "ipython3",
   "version": "3.7.11"
  }
 },
 "nbformat": 4,
 "nbformat_minor": 1
}
